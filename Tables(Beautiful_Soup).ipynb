{
 "cells": [
  {
   "cell_type": "markdown",
   "id": "4a326a1e",
   "metadata": {},
   "source": [
    "<h3>Beautiful Soup Library</h3>\n",
    "<p>Document tree is a hiarchical tree of all the html tags.\n",
    "</p>"
   ]
  },
  {
   "cell_type": "code",
   "execution_count": 1,
   "id": "03a82a58",
   "metadata": {},
   "outputs": [
    {
     "name": "stdout",
     "output_type": "stream",
     "text": [
      "Requirement already satisfied: bs4 in c:\\users\\samar\\appdata\\local\\programs\\python\\python38\\lib\\site-packages (0.0.1)\n",
      "Requirement already satisfied: beautifulsoup4 in c:\\users\\samar\\appdata\\local\\programs\\python\\python38\\lib\\site-packages (from bs4) (4.11.1)\n",
      "Requirement already satisfied: soupsieve>1.2 in c:\\users\\samar\\appdata\\local\\programs\\python\\python38\\lib\\site-packages (from beautifulsoup4->bs4) (2.3.2.post1)\n"
     ]
    }
   ],
   "source": [
    "!pip install bs4"
   ]
  },
  {
   "cell_type": "code",
   "execution_count": 2,
   "id": "c2f7acc3",
   "metadata": {},
   "outputs": [],
   "source": [
    "from bs4 import BeautifulSoup # this module helps in web scrapping.\n",
    "import requests"
   ]
  },
  {
   "cell_type": "code",
   "execution_count": 3,
   "id": "575c02be",
   "metadata": {},
   "outputs": [
    {
     "data": {
      "text/html": [
       "\n",
       "<h3>Rocket Launch </h3>\n",
       "\n",
       "<p>\n",
       "<table class='rocket'>\n",
       "  <tr>\n",
       "    <td>Flight No</td>\n",
       "    <td>Launch site</td> \n",
       "    <td>Payload mass</td>\n",
       "  </tr>\n",
       "  <tr>\n",
       "    <td>1</td>\n",
       "    <td>Florida</td>\n",
       "    <td>300 kg</td>\n",
       "  </tr>\n",
       "  <tr>\n",
       "    <td>2</td>\n",
       "    <td>Texas</td>\n",
       "    <td>94 kg</td>\n",
       "  </tr>\n",
       "  <tr>\n",
       "    <td>3</td>\n",
       "    <td>Florida </td>\n",
       "    <td>80 kg</td>\n",
       "  </tr>\n",
       "</table>\n",
       "</p>\n",
       "<p>\n",
       "\n",
       "<h3>Pizza Party  </h3>\n",
       "  \n",
       "    \n",
       "<table class='pizza'>\n",
       "  <tr>\n",
       "    <td>Pizza Place</td>\n",
       "    <td>Orders</td> \n",
       "    <td>Slices </td>\n",
       "   </tr>\n",
       "  <tr>\n",
       "    <td>Domino's Pizza</td>\n",
       "    <td>10</td>\n",
       "    <td>100</td>\n",
       "  </tr>\n",
       "  <tr>\n",
       "    <td>Little Caesars</td>\n",
       "    <td>12</td>\n",
       "    <td >144 </td>\n",
       "  </tr>\n",
       "  <tr>\n",
       "    <td>Papa John's </td>\n",
       "    <td>15 </td>\n",
       "    <td>165</td>\n",
       "  </tr>\n"
      ],
      "text/plain": [
       "<IPython.core.display.HTML object>"
      ]
     },
     "metadata": {},
     "output_type": "display_data"
    }
   ],
   "source": [
    "%%html\n",
    "\n",
    "<h3>Rocket Launch </h3>\n",
    "\n",
    "<p>\n",
    "<table class='rocket'>\n",
    "  <tr>\n",
    "    <td>Flight No</td>\n",
    "    <td>Launch site</td> \n",
    "    <td>Payload mass</td>\n",
    "  </tr>\n",
    "  <tr>\n",
    "    <td>1</td>\n",
    "    <td>Florida</td>\n",
    "    <td>300 kg</td>\n",
    "  </tr>\n",
    "  <tr>\n",
    "    <td>2</td>\n",
    "    <td>Texas</td>\n",
    "    <td>94 kg</td>\n",
    "  </tr>\n",
    "  <tr>\n",
    "    <td>3</td>\n",
    "    <td>Florida </td>\n",
    "    <td>80 kg</td>\n",
    "  </tr>\n",
    "</table>\n",
    "</p>\n",
    "<p>\n",
    "\n",
    "<h3>Pizza Party  </h3>\n",
    "  \n",
    "    \n",
    "<table class='pizza'>\n",
    "  <tr>\n",
    "    <td>Pizza Place</td>\n",
    "    <td>Orders</td> \n",
    "    <td>Slices </td>\n",
    "   </tr>\n",
    "  <tr>\n",
    "    <td>Domino's Pizza</td>\n",
    "    <td>10</td>\n",
    "    <td>100</td>\n",
    "  </tr>\n",
    "  <tr>\n",
    "    <td>Little Caesars</td>\n",
    "    <td>12</td>\n",
    "    <td >144 </td>\n",
    "  </tr>\n",
    "  <tr>\n",
    "    <td>Papa John's </td>\n",
    "    <td>15 </td>\n",
    "    <td>165</td>\n",
    "  </tr>\n"
   ]
  },
  {
   "cell_type": "code",
   "execution_count": 4,
   "id": "503dd50b",
   "metadata": {},
   "outputs": [],
   "source": [
    "two_tables = \"<h3>Rocket Launch </h3><p><table class='rocket'><tr><td>Flight No</td><td>Launch site</td> <td>Payload mass</td></tr><tr><td>1</td><td>Florida</td><td>300 kg</td></tr><tr><td>2</td><td>Texas</td><td>94 kg</td></tr><tr><td>3</td><td>Florida </td><td>80 kg</td></tr></table></p><p><h3>Pizza Party  </h3><table class='pizza'><tr><td>Pizza Place</td><td>Orders</td> <td>Slices </td></tr><tr><td>Domino's Pizza</td><td>10</td><td>100</td></tr><tr><td>Little Caesars</td><td>12</td><td >144 </td></tr><tr><td>Papa John's </td><td>15 </td><td>165</td></tr>\""
   ]
  },
  {
   "cell_type": "code",
   "execution_count": 6,
   "id": "21ac5e72",
   "metadata": {},
   "outputs": [],
   "source": [
    "table_bs=BeautifulSoup(two_tables,\"html.parser\")"
   ]
  },
  {
   "cell_type": "code",
   "execution_count": 7,
   "id": "9a7c261d",
   "metadata": {},
   "outputs": [
    {
     "data": {
      "text/plain": [
       "[<tr><td>Flight No</td><td>Launch site</td> <td>Payload mass</td></tr>,\n",
       " <tr><td>1</td><td>Florida</td><td>300 kg</td></tr>,\n",
       " <tr><td>2</td><td>Texas</td><td>94 kg</td></tr>,\n",
       " <tr><td>3</td><td>Florida </td><td>80 kg</td></tr>,\n",
       " <tr><td>Pizza Place</td><td>Orders</td> <td>Slices </td></tr>,\n",
       " <tr><td>Domino's Pizza</td><td>10</td><td>100</td></tr>,\n",
       " <tr><td>Little Caesars</td><td>12</td><td>144 </td></tr>,\n",
       " <tr><td>Papa John's </td><td>15 </td><td>165</td></tr>]"
      ]
     },
     "execution_count": 7,
     "metadata": {},
     "output_type": "execute_result"
    }
   ],
   "source": [
    "table_rows = table_bs.find_all('tr')\n",
    "table_rows"
   ]
  },
  {
   "cell_type": "code",
   "execution_count": 8,
   "id": "df6e81de",
   "metadata": {},
   "outputs": [
    {
     "data": {
      "text/plain": [
       "<tr><td>Flight No</td><td>Launch site</td> <td>Payload mass</td></tr>"
      ]
     },
     "execution_count": 8,
     "metadata": {},
     "output_type": "execute_result"
    }
   ],
   "source": [
    "first_row = table_rows[0]\n",
    "first_row"
   ]
  },
  {
   "cell_type": "code",
   "execution_count": 9,
   "id": "41918b0e",
   "metadata": {},
   "outputs": [
    {
     "name": "stdout",
     "output_type": "stream",
     "text": [
      "row 0 is <tr><td>Flight No</td><td>Launch site</td> <td>Payload mass</td></tr>\n",
      "row 1 is <tr><td>1</td><td>Florida</td><td>300 kg</td></tr>\n",
      "row 2 is <tr><td>2</td><td>Texas</td><td>94 kg</td></tr>\n",
      "row 3 is <tr><td>3</td><td>Florida </td><td>80 kg</td></tr>\n",
      "row 4 is <tr><td>Pizza Place</td><td>Orders</td> <td>Slices </td></tr>\n",
      "row 5 is <tr><td>Domino's Pizza</td><td>10</td><td>100</td></tr>\n",
      "row 6 is <tr><td>Little Caesars</td><td>12</td><td>144 </td></tr>\n",
      "row 7 is <tr><td>Papa John's </td><td>15 </td><td>165</td></tr>\n"
     ]
    }
   ],
   "source": [
    "for i,row in enumerate(table_rows):\n",
    "    print(\"row\", i,\"is\", row)"
   ]
  },
  {
   "cell_type": "code",
   "execution_count": 11,
   "id": "cc48f598",
   "metadata": {},
   "outputs": [
    {
     "name": "stdout",
     "output_type": "stream",
     "text": [
      "row 0\n",
      "column  0  cell <td>Flight No</td>\n",
      "column  1  cell <td>Launch site</td>\n",
      "column  2  cell <td>Payload mass</td>\n",
      "row 1\n",
      "column  0  cell <td>1</td>\n",
      "column  1  cell <td>Florida</td>\n",
      "column  2  cell <td>300 kg</td>\n",
      "row 2\n",
      "column  0  cell <td>2</td>\n",
      "column  1  cell <td>Texas</td>\n",
      "column  2  cell <td>94 kg</td>\n",
      "row 3\n",
      "column  0  cell <td>3</td>\n",
      "column  1  cell <td>Florida </td>\n",
      "column  2  cell <td>80 kg</td>\n",
      "row 4\n",
      "column  0  cell <td>Pizza Place</td>\n",
      "column  1  cell <td>Orders</td>\n",
      "column  2  cell <td>Slices </td>\n",
      "row 5\n",
      "column  0  cell <td>Domino's Pizza</td>\n",
      "column  1  cell <td>10</td>\n",
      "column  2  cell <td>100</td>\n",
      "row 6\n",
      "column  0  cell <td>Little Caesars</td>\n",
      "column  1  cell <td>12</td>\n",
      "column  2  cell <td>144 </td>\n",
      "row 7\n",
      "column  0  cell <td>Papa John's </td>\n",
      "column  1  cell <td>15 </td>\n",
      "column  2  cell <td>165</td>\n"
     ]
    }
   ],
   "source": [
    "for i,row in enumerate(table_rows):\n",
    "    print(\"row\", i)\n",
    "    cells = row.find_all(\"td\")\n",
    "    for j,cell in enumerate(cells):\n",
    "        print(\"column \",j,\" cell\",cell)"
   ]
  },
  {
   "cell_type": "code",
   "execution_count": 12,
   "id": "1a8d0ad3",
   "metadata": {},
   "outputs": [
    {
     "data": {
      "text/plain": [
       "['Florida']"
      ]
     },
     "execution_count": 12,
     "metadata": {},
     "output_type": "execute_result"
    }
   ],
   "source": [
    "florida= table_bs.find_all(string=\"Florida\")\n",
    "florida"
   ]
  },
  {
   "cell_type": "markdown",
   "id": "7cfeb1ad",
   "metadata": {},
   "source": [
    "<h2>Scrap content from web page</h2>"
   ]
  },
  {
   "cell_type": "code",
   "execution_count": 13,
   "id": "7a6384ee",
   "metadata": {},
   "outputs": [],
   "source": [
    "url = \"https://www.ibm.com\""
   ]
  },
  {
   "cell_type": "code",
   "execution_count": 14,
   "id": "7c017688",
   "metadata": {},
   "outputs": [],
   "source": [
    "data = requests.get(url).text"
   ]
  },
  {
   "cell_type": "code",
   "execution_count": 15,
   "id": "203d62d6",
   "metadata": {},
   "outputs": [],
   "source": [
    "soup = BeautifulSoup(data,\"html.parser\")"
   ]
  },
  {
   "cell_type": "code",
   "execution_count": 16,
   "id": "5e4d89ae",
   "metadata": {},
   "outputs": [
    {
     "name": "stdout",
     "output_type": "stream",
     "text": [
      "https://www.ibm.com/thought-leadership/institute-business-value/en-us/report/business-trends-2023\n",
      "#3171776\n",
      "#3171802\n",
      "#3171808\n",
      "#3171812\n",
      "#3171828\n",
      "#3171834\n",
      "https://newsroom.ibm.com/Drawing-Inspiration-from-Stories-in-Asia-Pacific-Training-1-Million-Women-and-Girls-in-the-Region\n",
      "/in-en/about\n",
      "#tab_3171780\n",
      "#tab_3171784\n",
      "#tab_3171788\n",
      "#tab_3171792\n",
      "#tab_3171796\n",
      "#tab_3171800\n",
      "https://www.ibm.com/consulting/?lnk=flathl\n",
      "https://www.ibm.com/consulting/strategy/?lnk=flathl\n",
      "/in-en/consulting/ibmix?lnk=flathl\n",
      "https://www.ibm.com/consulting/technology/?lnk=flathl\n",
      "/in-en/services/operations-consulting?lnk=flathl\n",
      "/strategic-partnerships?lnk=flathl\n",
      "https://www.ibm.com/case-studies/air-india-sats-airport-services-private-limited/\n",
      "https://www.ibm.com/careers/in-en/?lnk=flatitem\n",
      "https://www.ibm.com/careers/in-en/?lnk=flatitem\n",
      "https://research.ibm.com/?lnk=ushpv18mAll\n",
      "https://research.ibm.com/?lnk=ushpv18mAll\n",
      "https://www.ibm.com/in-en/impact/responsibility\n",
      "https://www.ibm.com/in-en/impact/responsibility\n",
      "/in-en/about\n",
      "#\n"
     ]
    }
   ],
   "source": [
    "for link in soup.find_all(\"a\",href=True):\n",
    "    print(link.get('href'))"
   ]
  },
  {
   "cell_type": "code",
   "execution_count": 17,
   "id": "f7f715c6",
   "metadata": {},
   "outputs": [
    {
     "name": "stdout",
     "output_type": "stream",
     "text": [
      "<img alt=\"Person standing with arms crossed\" class=\"\" loading=\"lazy\" src=\"//1.cms.s81c.com/sites/default/files/2022-11-16/XLG%20-%20IBM%20Consulting%20-%20Overview.jpg\"/>\n",
      "//1.cms.s81c.com/sites/default/files/2022-11-16/XLG%20-%20IBM%20Consulting%20-%20Overview.jpg\n",
      "<img alt=\"Team members at work in a conference room\" class=\"\" loading=\"lazy\" src=\"//1.cms.s81c.com/sites/default/files/2022-11-16/XLG%20-%20IBM%20Consulting%20-%20Strategy.jpg\"/>\n",
      "//1.cms.s81c.com/sites/default/files/2022-11-16/XLG%20-%20IBM%20Consulting%20-%20Strategy.jpg\n",
      "<img alt=\"Coworkers looking at laptops\" class=\"\" loading=\"lazy\" src=\"//1.cms.s81c.com/sites/default/files/2022-11-16/XLG%20-%20IBM%20Consulting%20-%20Experience.jpg\"/>\n",
      "//1.cms.s81c.com/sites/default/files/2022-11-16/XLG%20-%20IBM%20Consulting%20-%20Experience.jpg\n",
      "<img alt=\"Cloud developer with red sweater coding at desk\" class=\"\" loading=\"lazy\" src=\"//1.cms.s81c.com/sites/default/files/2022-11-16/XLG%20-%20IBM%20Consulting%20-%20Technology.jpg\"/>\n",
      "//1.cms.s81c.com/sites/default/files/2022-11-16/XLG%20-%20IBM%20Consulting%20-%20Technology.jpg\n",
      "<img alt=\"Aerial view of automated conveyer belt and machinery at work\" class=\"\" loading=\"lazy\" src=\"//1.cms.s81c.com/sites/default/files/2022-11-16/XLG%20-%20IBM%20Consulting%20-%20Operations.jpg\"/>\n",
      "//1.cms.s81c.com/sites/default/files/2022-11-16/XLG%20-%20IBM%20Consulting%20-%20Operations.jpg\n",
      "<img alt=\"Overhead view of partners collaborating on design with laptops and coffee\" class=\"\" loading=\"lazy\" src=\"//1.cms.s81c.com/sites/default/files/2022-11-16/XLG%20-%20IBM%20Consulting%20-%20Partners.jpg\"/>\n",
      "//1.cms.s81c.com/sites/default/files/2022-11-16/XLG%20-%20IBM%20Consulting%20-%20Partners.jpg\n",
      "<img alt=\"IBM employee on campus\" class=\"\" loading=\"lazy\" src=\"//1.cms.s81c.com/sites/default/files/2022-11-16/XLG%20-%20Inside%20IBM%20-%20IBM%20Careers.jpg\"/>\n",
      "//1.cms.s81c.com/sites/default/files/2022-11-16/XLG%20-%20Inside%20IBM%20-%20IBM%20Careers.jpg\n",
      "<img alt=\"Gloved hand rinsing tool in sink after research experiment\" class=\"\" loading=\"lazy\" src=\"//1.cms.s81c.com/sites/default/files/2022-11-16/XLG%20-%20Inside%20IBM%20-%20Research%20Labs.jpg\"/>\n",
      "//1.cms.s81c.com/sites/default/files/2022-11-16/XLG%20-%20Inside%20IBM%20-%20Research%20Labs.jpg\n",
      "<img alt=\"Hazy city skyline with skyscrapers \" class=\"\" loading=\"lazy\" src=\"//1.cms.s81c.com/sites/default/files/2022-11-16/XLG%20-%20Inside%20IBM%20-%20Corporate%20Social%20Responsibility.jpg\"/>\n",
      "//1.cms.s81c.com/sites/default/files/2022-11-16/XLG%20-%20Inside%20IBM%20-%20Corporate%20Social%20Responsibility.jpg\n"
     ]
    }
   ],
   "source": [
    "for link in soup.find_all('img'):\n",
    "    print(link)\n",
    "    print(link.get('src'))"
   ]
  }
 ],
 "metadata": {
  "kernelspec": {
   "display_name": "Python 3 (ipykernel)",
   "language": "python",
   "name": "python3"
  },
  "language_info": {
   "codemirror_mode": {
    "name": "ipython",
    "version": 3
   },
   "file_extension": ".py",
   "mimetype": "text/x-python",
   "name": "python",
   "nbconvert_exporter": "python",
   "pygments_lexer": "ipython3",
   "version": "3.8.3"
  }
 },
 "nbformat": 4,
 "nbformat_minor": 5
}
